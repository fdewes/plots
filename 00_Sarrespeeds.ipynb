{
 "cells": [
  {
   "cell_type": "code",
   "execution_count": 1,
   "id": "0c24d885-2d57-4fee-8334-a5a57a54ada2",
   "metadata": {},
   "outputs": [],
   "source": [
    "import pandas as pd\n",
    "import matplotlib.pyplot as plt"
   ]
  },
  {
   "cell_type": "code",
   "execution_count": 2,
   "id": "6ad53950-ad18-4311-92c1-65a3da97f8a0",
   "metadata": {},
   "outputs": [
    {
     "name": "stdout",
     "output_type": "stream",
     "text": [
      "sarrespeed.txt                                100%  385     4.5KB/s   00:00    \n"
     ]
    }
   ],
   "source": [
    "!scp sarre:~/sarrespeed.txt ./data/"
   ]
  },
  {
   "cell_type": "code",
   "execution_count": 29,
   "id": "7debf92d-dcac-4871-9900-e6a75d241d54",
   "metadata": {},
   "outputs": [],
   "source": [
    "df = pd.read_csv(\"data/sarrespeed.txt\", delimiter=\" \", \n",
    "                 names=['Month', 'Day', 'Time', 'Type', 'Speed', 'Unit'])\n",
    "df['Time'] = df['Time'].apply(lambda x: x[0:5])\n"
   ]
  },
  {
   "cell_type": "code",
   "execution_count": 30,
   "id": "634b6186-1c94-4661-961b-0b5f8a071316",
   "metadata": {},
   "outputs": [
    {
     "data": {
      "text/html": [
       "<div>\n",
       "<style scoped>\n",
       "    .dataframe tbody tr th:only-of-type {\n",
       "        vertical-align: middle;\n",
       "    }\n",
       "\n",
       "    .dataframe tbody tr th {\n",
       "        vertical-align: top;\n",
       "    }\n",
       "\n",
       "    .dataframe thead th {\n",
       "        text-align: right;\n",
       "    }\n",
       "</style>\n",
       "<table border=\"1\" class=\"dataframe\">\n",
       "  <thead>\n",
       "    <tr style=\"text-align: right;\">\n",
       "      <th></th>\n",
       "      <th>Month</th>\n",
       "      <th>Day</th>\n",
       "      <th>Time</th>\n",
       "      <th>Type</th>\n",
       "      <th>Speed</th>\n",
       "      <th>Unit</th>\n",
       "    </tr>\n",
       "  </thead>\n",
       "  <tbody>\n",
       "    <tr>\n",
       "      <th>0</th>\n",
       "      <td>Jan</td>\n",
       "      <td>7</td>\n",
       "      <td>07:45</td>\n",
       "      <td>Download:</td>\n",
       "      <td>628.02</td>\n",
       "      <td>Mbit/s</td>\n",
       "    </tr>\n",
       "    <tr>\n",
       "      <th>1</th>\n",
       "      <td>Jan</td>\n",
       "      <td>7</td>\n",
       "      <td>07:45</td>\n",
       "      <td>Upload:</td>\n",
       "      <td>32.90</td>\n",
       "      <td>Mbit/s</td>\n",
       "    </tr>\n",
       "    <tr>\n",
       "      <th>2</th>\n",
       "      <td>Jan</td>\n",
       "      <td>7</td>\n",
       "      <td>08:15</td>\n",
       "      <td>Download:</td>\n",
       "      <td>596.43</td>\n",
       "      <td>Mbit/s</td>\n",
       "    </tr>\n",
       "    <tr>\n",
       "      <th>3</th>\n",
       "      <td>Jan</td>\n",
       "      <td>7</td>\n",
       "      <td>08:15</td>\n",
       "      <td>Upload:</td>\n",
       "      <td>51.85</td>\n",
       "      <td>Mbit/s</td>\n",
       "    </tr>\n",
       "    <tr>\n",
       "      <th>4</th>\n",
       "      <td>Jan</td>\n",
       "      <td>7</td>\n",
       "      <td>08:45</td>\n",
       "      <td>Download:</td>\n",
       "      <td>654.49</td>\n",
       "      <td>Mbit/s</td>\n",
       "    </tr>\n",
       "    <tr>\n",
       "      <th>5</th>\n",
       "      <td>Jan</td>\n",
       "      <td>7</td>\n",
       "      <td>08:45</td>\n",
       "      <td>Upload:</td>\n",
       "      <td>51.66</td>\n",
       "      <td>Mbit/s</td>\n",
       "    </tr>\n",
       "    <tr>\n",
       "      <th>6</th>\n",
       "      <td>Jan</td>\n",
       "      <td>7</td>\n",
       "      <td>09:15</td>\n",
       "      <td>Download:</td>\n",
       "      <td>696.77</td>\n",
       "      <td>Mbit/s</td>\n",
       "    </tr>\n",
       "    <tr>\n",
       "      <th>7</th>\n",
       "      <td>Jan</td>\n",
       "      <td>7</td>\n",
       "      <td>09:15</td>\n",
       "      <td>Upload:</td>\n",
       "      <td>53.98</td>\n",
       "      <td>Mbit/s</td>\n",
       "    </tr>\n",
       "    <tr>\n",
       "      <th>8</th>\n",
       "      <td>Jan</td>\n",
       "      <td>7</td>\n",
       "      <td>09:45</td>\n",
       "      <td>Download:</td>\n",
       "      <td>463.84</td>\n",
       "      <td>Mbit/s</td>\n",
       "    </tr>\n",
       "    <tr>\n",
       "      <th>9</th>\n",
       "      <td>Jan</td>\n",
       "      <td>7</td>\n",
       "      <td>09:45</td>\n",
       "      <td>Upload:</td>\n",
       "      <td>52.79</td>\n",
       "      <td>Mbit/s</td>\n",
       "    </tr>\n",
       "  </tbody>\n",
       "</table>\n",
       "</div>"
      ],
      "text/plain": [
       "  Month  Day   Time       Type   Speed    Unit\n",
       "0   Jan    7  07:45  Download:  628.02  Mbit/s\n",
       "1   Jan    7  07:45    Upload:   32.90  Mbit/s\n",
       "2   Jan    7  08:15  Download:  596.43  Mbit/s\n",
       "3   Jan    7  08:15    Upload:   51.85  Mbit/s\n",
       "4   Jan    7  08:45  Download:  654.49  Mbit/s\n",
       "5   Jan    7  08:45    Upload:   51.66  Mbit/s\n",
       "6   Jan    7  09:15  Download:  696.77  Mbit/s\n",
       "7   Jan    7  09:15    Upload:   53.98  Mbit/s\n",
       "8   Jan    7  09:45  Download:  463.84  Mbit/s\n",
       "9   Jan    7  09:45    Upload:   52.79  Mbit/s"
      ]
     },
     "execution_count": 30,
     "metadata": {},
     "output_type": "execute_result"
    }
   ],
   "source": [
    "\n",
    "df"
   ]
  },
  {
   "cell_type": "code",
   "execution_count": 31,
   "id": "e3c13a29-ae9b-4245-9212-c685f75cfd53",
   "metadata": {},
   "outputs": [
    {
     "data": {
      "text/html": [
       "<div>\n",
       "<style scoped>\n",
       "    .dataframe tbody tr th:only-of-type {\n",
       "        vertical-align: middle;\n",
       "    }\n",
       "\n",
       "    .dataframe tbody tr th {\n",
       "        vertical-align: top;\n",
       "    }\n",
       "\n",
       "    .dataframe thead th {\n",
       "        text-align: right;\n",
       "    }\n",
       "</style>\n",
       "<table border=\"1\" class=\"dataframe\">\n",
       "  <thead>\n",
       "    <tr style=\"text-align: right;\">\n",
       "      <th></th>\n",
       "      <th>Month</th>\n",
       "      <th>Day</th>\n",
       "      <th>Time</th>\n",
       "      <th>Type</th>\n",
       "      <th>Speed</th>\n",
       "      <th>Unit</th>\n",
       "    </tr>\n",
       "  </thead>\n",
       "  <tbody>\n",
       "    <tr>\n",
       "      <th>0</th>\n",
       "      <td>Jan</td>\n",
       "      <td>7</td>\n",
       "      <td>07:45</td>\n",
       "      <td>Download:</td>\n",
       "      <td>628.02</td>\n",
       "      <td>Mbit/s</td>\n",
       "    </tr>\n",
       "    <tr>\n",
       "      <th>2</th>\n",
       "      <td>Jan</td>\n",
       "      <td>7</td>\n",
       "      <td>08:15</td>\n",
       "      <td>Download:</td>\n",
       "      <td>596.43</td>\n",
       "      <td>Mbit/s</td>\n",
       "    </tr>\n",
       "    <tr>\n",
       "      <th>4</th>\n",
       "      <td>Jan</td>\n",
       "      <td>7</td>\n",
       "      <td>08:45</td>\n",
       "      <td>Download:</td>\n",
       "      <td>654.49</td>\n",
       "      <td>Mbit/s</td>\n",
       "    </tr>\n",
       "    <tr>\n",
       "      <th>6</th>\n",
       "      <td>Jan</td>\n",
       "      <td>7</td>\n",
       "      <td>09:15</td>\n",
       "      <td>Download:</td>\n",
       "      <td>696.77</td>\n",
       "      <td>Mbit/s</td>\n",
       "    </tr>\n",
       "    <tr>\n",
       "      <th>8</th>\n",
       "      <td>Jan</td>\n",
       "      <td>7</td>\n",
       "      <td>09:45</td>\n",
       "      <td>Download:</td>\n",
       "      <td>463.84</td>\n",
       "      <td>Mbit/s</td>\n",
       "    </tr>\n",
       "  </tbody>\n",
       "</table>\n",
       "</div>"
      ],
      "text/plain": [
       "  Month  Day   Time       Type   Speed    Unit\n",
       "0   Jan    7  07:45  Download:  628.02  Mbit/s\n",
       "2   Jan    7  08:15  Download:  596.43  Mbit/s\n",
       "4   Jan    7  08:45  Download:  654.49  Mbit/s\n",
       "6   Jan    7  09:15  Download:  696.77  Mbit/s\n",
       "8   Jan    7  09:45  Download:  463.84  Mbit/s"
      ]
     },
     "execution_count": 31,
     "metadata": {},
     "output_type": "execute_result"
    }
   ],
   "source": [
    "df_dl = df.loc[df['Type'] == \"Download:\"]\n",
    "df_ul = df.loc[df['Type'] == \"Upload:\"]\n",
    "df_dl"
   ]
  },
  {
   "cell_type": "code",
   "execution_count": 32,
   "id": "1a58228e-9fd1-4aeb-b8e4-92cc2fd30187",
   "metadata": {},
   "outputs": [
    {
     "data": {
      "image/png": "[encoded data removed]",
      "text/plain": [
       "<Figure size 640x480 with 1 Axes>"
      ]
     },
     "metadata": {},
     "output_type": "display_data"
    }
   ],
   "source": [
    "fig, ax = plt.subplots()\n",
    "ax.plot(df_ul['Time'], df_ul['Speed'])\n",
    "ax.plot(df_dl['Time'], df_dl['Speed'])\n",
    "ax.set_title('F35 Download / Upload Speeds')\n",
    "ax.set_xlabel('Time')\n",
    "ax.set_ylabel('Mbit/s')\n",
    "plt.xticks(rotation=45)\n",
    "plt.show()"
   ]
  },
  {
   "cell_type": "code",
   "execution_count": 13,
   "id": "23719a08-d105-4977-a5cf-07d69d6d808a",
   "metadata": {},
   "outputs": [],
   "source": []
  },
  {
   "cell_type": "code",
   "execution_count": null,
   "id": "9cdecbcc-870e-49f6-a037-62afa06a9f03",
   "metadata": {},
   "outputs": [],
   "source": []
  }
 ],
 "metadata": {
  "kernelspec": {
   "display_name": "Python 3 (ipykernel)",
   "language": "python",
   "name": "python3"
  },
  "language_info": {
   "codemirror_mode": {
    "name": "ipython",
    "version": 3
   },
   "file_extension": ".py",
   "mimetype": "text/x-python",
   "name": "python",
   "nbconvert_exporter": "python",
   "pygments_lexer": "ipython3",
   "version": "3.9.6"
  }
 },
 "nbformat": 4,
 "nbformat_minor": 5
}
